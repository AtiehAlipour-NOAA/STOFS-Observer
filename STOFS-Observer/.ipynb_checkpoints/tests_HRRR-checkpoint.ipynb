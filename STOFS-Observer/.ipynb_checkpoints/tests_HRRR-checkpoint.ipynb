{
 "cells": [
  {
   "cell_type": "code",
   "execution_count": 1,
   "id": "14b5c6ba-cb12-4f3b-ba9a-688e525bb77f",
   "metadata": {},
   "outputs": [],
   "source": [
    "from _HRRR import fetch_saved_HRRR_Nowcast_data\n",
    "#from _GFS import fetch_gfs_Forecast_data\n",
    "import pandas as pd"
   ]
  },
  {
   "cell_type": "code",
   "execution_count": 4,
   "id": "d40860cd-0932-4074-a84d-14efb0ca8ada",
   "metadata": {},
   "outputs": [
    {
     "ename": "TypeError",
     "evalue": "fetch_saved_HRRR_Nowcast_data() takes 7 positional arguments but 8 were given",
     "output_type": "error",
     "traceback": [
      "\u001b[0;31m---------------------------------------------------------------------------\u001b[0m",
      "\u001b[0;31mTypeError\u001b[0m                                 Traceback (most recent call last)",
      "Cell \u001b[0;32mIn[4], line 18\u001b[0m\n\u001b[1;32m     12\u001b[0m stations \u001b[38;5;241m=\u001b[39m pd\u001b[38;5;241m.\u001b[39mDataFrame({\n\u001b[1;32m     13\u001b[0m     \u001b[38;5;124m'\u001b[39m\u001b[38;5;124mlat\u001b[39m\u001b[38;5;124m'\u001b[39m: [\u001b[38;5;241m30.0\u001b[39m, \u001b[38;5;241m31.0\u001b[39m],  \u001b[38;5;66;03m# Example latitudes\u001b[39;00m\n\u001b[1;32m     14\u001b[0m     \u001b[38;5;124m'\u001b[39m\u001b[38;5;124mlon\u001b[39m\u001b[38;5;124m'\u001b[39m: [\u001b[38;5;241m-\u001b[39m\u001b[38;5;241m80.0\u001b[39m, \u001b[38;5;241m-\u001b[39m\u001b[38;5;241m81.0\u001b[39m],  \u001b[38;5;66;03m# Example longitudes\u001b[39;00m\n\u001b[1;32m     15\u001b[0m     \u001b[38;5;124m'\u001b[39m\u001b[38;5;124mnos_id\u001b[39m\u001b[38;5;124m'\u001b[39m: [\u001b[38;5;241m123\u001b[39m, \u001b[38;5;241m456\u001b[39m]  \u001b[38;5;66;03m# Example IDs\u001b[39;00m\n\u001b[1;32m     16\u001b[0m })\n\u001b[1;32m     17\u001b[0m \u001b[38;5;66;03m# Fetch GFS data\u001b[39;00m\n\u001b[0;32m---> 18\u001b[0m HRRR_wind_u_data,HRRR_wind_v_data, HRRR_surface_pressure_data \u001b[38;5;241m=\u001b[39m fetch_saved_HRRR_Nowcast_data(filename, modelname, directoryname, directoryname2, bucketname, daterange, stations, steps)\n\u001b[1;32m     20\u001b[0m \u001b[38;5;28mprint\u001b[39m(HRRR_wind_u_data)\n\u001b[1;32m     21\u001b[0m \u001b[38;5;28mprint\u001b[39m(HRRR_wind_v_data)\n",
      "\u001b[0;31mTypeError\u001b[0m: fetch_saved_HRRR_Nowcast_data() takes 7 positional arguments but 8 were given"
     ]
    }
   ],
   "source": [
    "# Define parameters\n",
    "\n",
    "filename = 't12z.hrrr.prc'\n",
    "modelname = 'stofs_3d_atl'\n",
    "directoryname = 'STOFS-3D-Atl'\n",
    "directoryname2 = 'rerun'\n",
    "bucketname = 'noaa-nos-stofs3d-pds'\n",
    "daterange = ['20240922', '20240923']\n",
    "steps = 24   # Number of time steps to retrieve (hours)\n",
    "\n",
    "# Create a DataFrame for wind stations (example data)\n",
    "stations = pd.DataFrame({\n",
    "    'lat': [30.0, 31.0],  # Example latitudes\n",
    "    'lon': [-80.0, -81.0],  # Example longitudes\n",
    "    'nos_id': [123, 456]  # Example IDs\n",
    "})\n",
    "# Fetch GFS data\n",
    "HRRR_wind_u_data,HRRR_wind_v_data, HRRR_surface_pressure_data = fetch_saved_HRRR_Nowcast_data(filename, modelname, directoryname, directoryname2, bucketname, daterange, stations, steps)\n",
    "\n",
    "print(HRRR_wind_u_data)\n",
    "print(HRRR_wind_v_data)\n",
    "print(HRRR_surface_pressure_data)"
   ]
  },
  {
   "cell_type": "code",
   "execution_count": null,
   "id": "5bce1667-3b0e-4922-9bc4-84be064e59d1",
   "metadata": {},
   "outputs": [],
   "source": []
  }
 ],
 "metadata": {
  "kernelspec": {
   "display_name": "Python 3 (ipykernel)",
   "language": "python",
   "name": "python3"
  },
  "language_info": {
   "codemirror_mode": {
    "name": "ipython",
    "version": 3
   },
   "file_extension": ".py",
   "mimetype": "text/x-python",
   "name": "python",
   "nbconvert_exporter": "python",
   "pygments_lexer": "ipython3",
   "version": "3.12.2"
  }
 },
 "nbformat": 4,
 "nbformat_minor": 5
}
